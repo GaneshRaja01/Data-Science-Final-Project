{
  "nbformat": 4,
  "nbformat_minor": 0,
  "metadata": {
    "colab": {
      "provenance": []
    },
    "kernelspec": {
      "name": "python3",
      "display_name": "Python 3"
    },
    "language_info": {
      "name": "python"
    }
  },
  "cells": [
    {
      "cell_type": "code",
      "execution_count": 1,
      "metadata": {
        "colab": {
          "base_uri": "https://localhost:8080/"
        },
        "id": "P954r3ev_07j",
        "outputId": "c9dc3c68-2532-4219-c44d-f1140549f86e"
      },
      "outputs": [
        {
          "output_type": "stream",
          "name": "stdout",
          "text": [
            "Requirement already satisfied: yfinance in /usr/local/lib/python3.10/dist-packages (0.2.50)\n",
            "Requirement already satisfied: pandas>=1.3.0 in /usr/local/lib/python3.10/dist-packages (from yfinance) (2.2.2)\n",
            "Requirement already satisfied: numpy>=1.16.5 in /usr/local/lib/python3.10/dist-packages (from yfinance) (1.26.4)\n",
            "Requirement already satisfied: requests>=2.31 in /usr/local/lib/python3.10/dist-packages (from yfinance) (2.32.3)\n",
            "Requirement already satisfied: multitasking>=0.0.7 in /usr/local/lib/python3.10/dist-packages (from yfinance) (0.0.11)\n",
            "Requirement already satisfied: lxml>=4.9.1 in /usr/local/lib/python3.10/dist-packages (from yfinance) (5.3.0)\n",
            "Requirement already satisfied: platformdirs>=2.0.0 in /usr/local/lib/python3.10/dist-packages (from yfinance) (4.3.6)\n",
            "Requirement already satisfied: pytz>=2022.5 in /usr/local/lib/python3.10/dist-packages (from yfinance) (2024.2)\n",
            "Requirement already satisfied: frozendict>=2.3.4 in /usr/local/lib/python3.10/dist-packages (from yfinance) (2.4.6)\n",
            "Requirement already satisfied: peewee>=3.16.2 in /usr/local/lib/python3.10/dist-packages (from yfinance) (3.17.8)\n",
            "Requirement already satisfied: beautifulsoup4>=4.11.1 in /usr/local/lib/python3.10/dist-packages (from yfinance) (4.12.3)\n",
            "Requirement already satisfied: html5lib>=1.1 in /usr/local/lib/python3.10/dist-packages (from yfinance) (1.1)\n",
            "Requirement already satisfied: soupsieve>1.2 in /usr/local/lib/python3.10/dist-packages (from beautifulsoup4>=4.11.1->yfinance) (2.6)\n",
            "Requirement already satisfied: six>=1.9 in /usr/local/lib/python3.10/dist-packages (from html5lib>=1.1->yfinance) (1.17.0)\n",
            "Requirement already satisfied: webencodings in /usr/local/lib/python3.10/dist-packages (from html5lib>=1.1->yfinance) (0.5.1)\n",
            "Requirement already satisfied: python-dateutil>=2.8.2 in /usr/local/lib/python3.10/dist-packages (from pandas>=1.3.0->yfinance) (2.8.2)\n",
            "Requirement already satisfied: tzdata>=2022.7 in /usr/local/lib/python3.10/dist-packages (from pandas>=1.3.0->yfinance) (2024.2)\n",
            "Requirement already satisfied: charset-normalizer<4,>=2 in /usr/local/lib/python3.10/dist-packages (from requests>=2.31->yfinance) (3.4.0)\n",
            "Requirement already satisfied: idna<4,>=2.5 in /usr/local/lib/python3.10/dist-packages (from requests>=2.31->yfinance) (3.10)\n",
            "Requirement already satisfied: urllib3<3,>=1.21.1 in /usr/local/lib/python3.10/dist-packages (from requests>=2.31->yfinance) (2.2.3)\n",
            "Requirement already satisfied: certifi>=2017.4.17 in /usr/local/lib/python3.10/dist-packages (from requests>=2.31->yfinance) (2024.12.14)\n",
            "Collecting pmdarima\n",
            "  Downloading pmdarima-2.0.4-cp310-cp310-manylinux_2_17_x86_64.manylinux2014_x86_64.manylinux_2_28_x86_64.whl.metadata (7.8 kB)\n",
            "Requirement already satisfied: joblib>=0.11 in /usr/local/lib/python3.10/dist-packages (from pmdarima) (1.4.2)\n",
            "Requirement already satisfied: Cython!=0.29.18,!=0.29.31,>=0.29 in /usr/local/lib/python3.10/dist-packages (from pmdarima) (3.0.11)\n",
            "Requirement already satisfied: numpy>=1.21.2 in /usr/local/lib/python3.10/dist-packages (from pmdarima) (1.26.4)\n",
            "Requirement already satisfied: pandas>=0.19 in /usr/local/lib/python3.10/dist-packages (from pmdarima) (2.2.2)\n",
            "Requirement already satisfied: scikit-learn>=0.22 in /usr/local/lib/python3.10/dist-packages (from pmdarima) (1.6.0)\n",
            "Requirement already satisfied: scipy>=1.3.2 in /usr/local/lib/python3.10/dist-packages (from pmdarima) (1.13.1)\n",
            "Requirement already satisfied: statsmodels>=0.13.2 in /usr/local/lib/python3.10/dist-packages (from pmdarima) (0.14.4)\n",
            "Requirement already satisfied: urllib3 in /usr/local/lib/python3.10/dist-packages (from pmdarima) (2.2.3)\n",
            "Requirement already satisfied: setuptools!=50.0.0,>=38.6.0 in /usr/local/lib/python3.10/dist-packages (from pmdarima) (75.1.0)\n",
            "Requirement already satisfied: packaging>=17.1 in /usr/local/lib/python3.10/dist-packages (from pmdarima) (24.2)\n",
            "Requirement already satisfied: python-dateutil>=2.8.2 in /usr/local/lib/python3.10/dist-packages (from pandas>=0.19->pmdarima) (2.8.2)\n",
            "Requirement already satisfied: pytz>=2020.1 in /usr/local/lib/python3.10/dist-packages (from pandas>=0.19->pmdarima) (2024.2)\n",
            "Requirement already satisfied: tzdata>=2022.7 in /usr/local/lib/python3.10/dist-packages (from pandas>=0.19->pmdarima) (2024.2)\n",
            "Requirement already satisfied: threadpoolctl>=3.1.0 in /usr/local/lib/python3.10/dist-packages (from scikit-learn>=0.22->pmdarima) (3.5.0)\n",
            "Requirement already satisfied: patsy>=0.5.6 in /usr/local/lib/python3.10/dist-packages (from statsmodels>=0.13.2->pmdarima) (1.0.1)\n",
            "Requirement already satisfied: six>=1.5 in /usr/local/lib/python3.10/dist-packages (from python-dateutil>=2.8.2->pandas>=0.19->pmdarima) (1.17.0)\n",
            "Downloading pmdarima-2.0.4-cp310-cp310-manylinux_2_17_x86_64.manylinux2014_x86_64.manylinux_2_28_x86_64.whl (2.1 MB)\n",
            "\u001b[2K   \u001b[90m━━━━━━━━━━━━━━━━━━━━━━━━━━━━━━━━━━━━━━━━\u001b[0m \u001b[32m2.1/2.1 MB\u001b[0m \u001b[31m17.9 MB/s\u001b[0m eta \u001b[36m0:00:00\u001b[0m\n",
            "\u001b[?25hInstalling collected packages: pmdarima\n",
            "Successfully installed pmdarima-2.0.4\n"
          ]
        }
      ],
      "source": [
        "## Installing yahoo finance\n",
        "!pip install yfinance\n",
        "!pip install pmdarima"
      ]
    },
    {
      "cell_type": "code",
      "source": [
        "import numpy as np\n",
        "import pandas as pd\n",
        "import seaborn as sns\n",
        "import yfinance as yf\n",
        "import matplotlib.pyplot as plt\n",
        "from datetime import datetime\n",
        "import warnings\n",
        "warnings.filterwarnings('ignore')\n",
        "import statsmodels.api as sm\n",
        "from pmdarima import auto_arima\n",
        "import pmdarima as pm\n",
        "from keras.models import Sequential\n",
        "from keras.layers import LSTM, Dense\n",
        "from keras.layers import Dropout\n",
        "from sklearn.preprocessing import MinMaxScaler\n",
        "from sklearn.metrics import mean_squared_error, mean_absolute_error, r2_score\n",
        "from sklearn.model_selection import train_test_split"
      ],
      "metadata": {
        "id": "tAG6rm9ztUHY"
      },
      "execution_count": 2,
      "outputs": []
    },
    {
      "cell_type": "code",
      "source": [
        "#Data collecting from yahoo finance\n",
        "df_tesla = yf.download('TSLA', start= '2019-01-01', end='2024-09-30')"
      ],
      "metadata": {
        "colab": {
          "base_uri": "https://localhost:8080/"
        },
        "id": "x6hvUaGVVRq3",
        "outputId": "6b11e899-bb13-45d6-845b-d6ce05e0f469"
      },
      "execution_count": 3,
      "outputs": [
        {
          "output_type": "stream",
          "name": "stderr",
          "text": [
            "\r[*********************100%***********************]  1 of 1 completed\n"
          ]
        }
      ]
    },
    {
      "cell_type": "code",
      "source": [
        "df_tesla.head()"
      ],
      "metadata": {
        "colab": {
          "base_uri": "https://localhost:8080/",
          "height": 269
        },
        "id": "mP1jAJQ_pobQ",
        "outputId": "1e2e6386-6a9d-47b5-f7a8-9d3047d434a1"
      },
      "execution_count": 4,
      "outputs": [
        {
          "output_type": "execute_result",
          "data": {
            "text/plain": [
              "Price       Adj Close      Close       High        Low       Open     Volume\n",
              "Ticker           TSLA       TSLA       TSLA       TSLA       TSLA       TSLA\n",
              "Date                                                                        \n",
              "2019-01-02  20.674667  20.674667  21.008667  19.920000  20.406668  174879000\n",
              "2019-01-03  20.024000  20.024000  20.626667  19.825333  20.466667  104478000\n",
              "2019-01-04  21.179333  21.179333  21.200001  20.181999  20.400000  110911500\n",
              "2019-01-07  22.330667  22.330667  22.449333  21.183332  21.448000  113268000\n",
              "2019-01-08  22.356667  22.356667  22.934000  21.801332  22.797333  105127500"
            ],
            "text/html": [
              "\n",
              "  <div id=\"df-db616af5-eaaf-4a85-a2e1-d83f492fd49d\" class=\"colab-df-container\">\n",
              "    <div>\n",
              "<style scoped>\n",
              "    .dataframe tbody tr th:only-of-type {\n",
              "        vertical-align: middle;\n",
              "    }\n",
              "\n",
              "    .dataframe tbody tr th {\n",
              "        vertical-align: top;\n",
              "    }\n",
              "\n",
              "    .dataframe thead tr th {\n",
              "        text-align: left;\n",
              "    }\n",
              "\n",
              "    .dataframe thead tr:last-of-type th {\n",
              "        text-align: right;\n",
              "    }\n",
              "</style>\n",
              "<table border=\"1\" class=\"dataframe\">\n",
              "  <thead>\n",
              "    <tr>\n",
              "      <th>Price</th>\n",
              "      <th>Adj Close</th>\n",
              "      <th>Close</th>\n",
              "      <th>High</th>\n",
              "      <th>Low</th>\n",
              "      <th>Open</th>\n",
              "      <th>Volume</th>\n",
              "    </tr>\n",
              "    <tr>\n",
              "      <th>Ticker</th>\n",
              "      <th>TSLA</th>\n",
              "      <th>TSLA</th>\n",
              "      <th>TSLA</th>\n",
              "      <th>TSLA</th>\n",
              "      <th>TSLA</th>\n",
              "      <th>TSLA</th>\n",
              "    </tr>\n",
              "    <tr>\n",
              "      <th>Date</th>\n",
              "      <th></th>\n",
              "      <th></th>\n",
              "      <th></th>\n",
              "      <th></th>\n",
              "      <th></th>\n",
              "      <th></th>\n",
              "    </tr>\n",
              "  </thead>\n",
              "  <tbody>\n",
              "    <tr>\n",
              "      <th>2019-01-02</th>\n",
              "      <td>20.674667</td>\n",
              "      <td>20.674667</td>\n",
              "      <td>21.008667</td>\n",
              "      <td>19.920000</td>\n",
              "      <td>20.406668</td>\n",
              "      <td>174879000</td>\n",
              "    </tr>\n",
              "    <tr>\n",
              "      <th>2019-01-03</th>\n",
              "      <td>20.024000</td>\n",
              "      <td>20.024000</td>\n",
              "      <td>20.626667</td>\n",
              "      <td>19.825333</td>\n",
              "      <td>20.466667</td>\n",
              "      <td>104478000</td>\n",
              "    </tr>\n",
              "    <tr>\n",
              "      <th>2019-01-04</th>\n",
              "      <td>21.179333</td>\n",
              "      <td>21.179333</td>\n",
              "      <td>21.200001</td>\n",
              "      <td>20.181999</td>\n",
              "      <td>20.400000</td>\n",
              "      <td>110911500</td>\n",
              "    </tr>\n",
              "    <tr>\n",
              "      <th>2019-01-07</th>\n",
              "      <td>22.330667</td>\n",
              "      <td>22.330667</td>\n",
              "      <td>22.449333</td>\n",
              "      <td>21.183332</td>\n",
              "      <td>21.448000</td>\n",
              "      <td>113268000</td>\n",
              "    </tr>\n",
              "    <tr>\n",
              "      <th>2019-01-08</th>\n",
              "      <td>22.356667</td>\n",
              "      <td>22.356667</td>\n",
              "      <td>22.934000</td>\n",
              "      <td>21.801332</td>\n",
              "      <td>22.797333</td>\n",
              "      <td>105127500</td>\n",
              "    </tr>\n",
              "  </tbody>\n",
              "</table>\n",
              "</div>\n",
              "    <div class=\"colab-df-buttons\">\n",
              "\n",
              "  <div class=\"colab-df-container\">\n",
              "    <button class=\"colab-df-convert\" onclick=\"convertToInteractive('df-db616af5-eaaf-4a85-a2e1-d83f492fd49d')\"\n",
              "            title=\"Convert this dataframe to an interactive table.\"\n",
              "            style=\"display:none;\">\n",
              "\n",
              "  <svg xmlns=\"http://www.w3.org/2000/svg\" height=\"24px\" viewBox=\"0 -960 960 960\">\n",
              "    <path d=\"M120-120v-720h720v720H120Zm60-500h600v-160H180v160Zm220 220h160v-160H400v160Zm0 220h160v-160H400v160ZM180-400h160v-160H180v160Zm440 0h160v-160H620v160ZM180-180h160v-160H180v160Zm440 0h160v-160H620v160Z\"/>\n",
              "  </svg>\n",
              "    </button>\n",
              "\n",
              "  <style>\n",
              "    .colab-df-container {\n",
              "      display:flex;\n",
              "      gap: 12px;\n",
              "    }\n",
              "\n",
              "    .colab-df-convert {\n",
              "      background-color: #E8F0FE;\n",
              "      border: none;\n",
              "      border-radius: 50%;\n",
              "      cursor: pointer;\n",
              "      display: none;\n",
              "      fill: #1967D2;\n",
              "      height: 32px;\n",
              "      padding: 0 0 0 0;\n",
              "      width: 32px;\n",
              "    }\n",
              "\n",
              "    .colab-df-convert:hover {\n",
              "      background-color: #E2EBFA;\n",
              "      box-shadow: 0px 1px 2px rgba(60, 64, 67, 0.3), 0px 1px 3px 1px rgba(60, 64, 67, 0.15);\n",
              "      fill: #174EA6;\n",
              "    }\n",
              "\n",
              "    .colab-df-buttons div {\n",
              "      margin-bottom: 4px;\n",
              "    }\n",
              "\n",
              "    [theme=dark] .colab-df-convert {\n",
              "      background-color: #3B4455;\n",
              "      fill: #D2E3FC;\n",
              "    }\n",
              "\n",
              "    [theme=dark] .colab-df-convert:hover {\n",
              "      background-color: #434B5C;\n",
              "      box-shadow: 0px 1px 3px 1px rgba(0, 0, 0, 0.15);\n",
              "      filter: drop-shadow(0px 1px 2px rgba(0, 0, 0, 0.3));\n",
              "      fill: #FFFFFF;\n",
              "    }\n",
              "  </style>\n",
              "\n",
              "    <script>\n",
              "      const buttonEl =\n",
              "        document.querySelector('#df-db616af5-eaaf-4a85-a2e1-d83f492fd49d button.colab-df-convert');\n",
              "      buttonEl.style.display =\n",
              "        google.colab.kernel.accessAllowed ? 'block' : 'none';\n",
              "\n",
              "      async function convertToInteractive(key) {\n",
              "        const element = document.querySelector('#df-db616af5-eaaf-4a85-a2e1-d83f492fd49d');\n",
              "        const dataTable =\n",
              "          await google.colab.kernel.invokeFunction('convertToInteractive',\n",
              "                                                    [key], {});\n",
              "        if (!dataTable) return;\n",
              "\n",
              "        const docLinkHtml = 'Like what you see? Visit the ' +\n",
              "          '<a target=\"_blank\" href=https://colab.research.google.com/notebooks/data_table.ipynb>data table notebook</a>'\n",
              "          + ' to learn more about interactive tables.';\n",
              "        element.innerHTML = '';\n",
              "        dataTable['output_type'] = 'display_data';\n",
              "        await google.colab.output.renderOutput(dataTable, element);\n",
              "        const docLink = document.createElement('div');\n",
              "        docLink.innerHTML = docLinkHtml;\n",
              "        element.appendChild(docLink);\n",
              "      }\n",
              "    </script>\n",
              "  </div>\n",
              "\n",
              "\n",
              "<div id=\"df-3e55432a-c8fb-48d4-a554-580727b6a674\">\n",
              "  <button class=\"colab-df-quickchart\" onclick=\"quickchart('df-3e55432a-c8fb-48d4-a554-580727b6a674')\"\n",
              "            title=\"Suggest charts\"\n",
              "            style=\"display:none;\">\n",
              "\n",
              "<svg xmlns=\"http://www.w3.org/2000/svg\" height=\"24px\"viewBox=\"0 0 24 24\"\n",
              "     width=\"24px\">\n",
              "    <g>\n",
              "        <path d=\"M19 3H5c-1.1 0-2 .9-2 2v14c0 1.1.9 2 2 2h14c1.1 0 2-.9 2-2V5c0-1.1-.9-2-2-2zM9 17H7v-7h2v7zm4 0h-2V7h2v10zm4 0h-2v-4h2v4z\"/>\n",
              "    </g>\n",
              "</svg>\n",
              "  </button>\n",
              "\n",
              "<style>\n",
              "  .colab-df-quickchart {\n",
              "      --bg-color: #E8F0FE;\n",
              "      --fill-color: #1967D2;\n",
              "      --hover-bg-color: #E2EBFA;\n",
              "      --hover-fill-color: #174EA6;\n",
              "      --disabled-fill-color: #AAA;\n",
              "      --disabled-bg-color: #DDD;\n",
              "  }\n",
              "\n",
              "  [theme=dark] .colab-df-quickchart {\n",
              "      --bg-color: #3B4455;\n",
              "      --fill-color: #D2E3FC;\n",
              "      --hover-bg-color: #434B5C;\n",
              "      --hover-fill-color: #FFFFFF;\n",
              "      --disabled-bg-color: #3B4455;\n",
              "      --disabled-fill-color: #666;\n",
              "  }\n",
              "\n",
              "  .colab-df-quickchart {\n",
              "    background-color: var(--bg-color);\n",
              "    border: none;\n",
              "    border-radius: 50%;\n",
              "    cursor: pointer;\n",
              "    display: none;\n",
              "    fill: var(--fill-color);\n",
              "    height: 32px;\n",
              "    padding: 0;\n",
              "    width: 32px;\n",
              "  }\n",
              "\n",
              "  .colab-df-quickchart:hover {\n",
              "    background-color: var(--hover-bg-color);\n",
              "    box-shadow: 0 1px 2px rgba(60, 64, 67, 0.3), 0 1px 3px 1px rgba(60, 64, 67, 0.15);\n",
              "    fill: var(--button-hover-fill-color);\n",
              "  }\n",
              "\n",
              "  .colab-df-quickchart-complete:disabled,\n",
              "  .colab-df-quickchart-complete:disabled:hover {\n",
              "    background-color: var(--disabled-bg-color);\n",
              "    fill: var(--disabled-fill-color);\n",
              "    box-shadow: none;\n",
              "  }\n",
              "\n",
              "  .colab-df-spinner {\n",
              "    border: 2px solid var(--fill-color);\n",
              "    border-color: transparent;\n",
              "    border-bottom-color: var(--fill-color);\n",
              "    animation:\n",
              "      spin 1s steps(1) infinite;\n",
              "  }\n",
              "\n",
              "  @keyframes spin {\n",
              "    0% {\n",
              "      border-color: transparent;\n",
              "      border-bottom-color: var(--fill-color);\n",
              "      border-left-color: var(--fill-color);\n",
              "    }\n",
              "    20% {\n",
              "      border-color: transparent;\n",
              "      border-left-color: var(--fill-color);\n",
              "      border-top-color: var(--fill-color);\n",
              "    }\n",
              "    30% {\n",
              "      border-color: transparent;\n",
              "      border-left-color: var(--fill-color);\n",
              "      border-top-color: var(--fill-color);\n",
              "      border-right-color: var(--fill-color);\n",
              "    }\n",
              "    40% {\n",
              "      border-color: transparent;\n",
              "      border-right-color: var(--fill-color);\n",
              "      border-top-color: var(--fill-color);\n",
              "    }\n",
              "    60% {\n",
              "      border-color: transparent;\n",
              "      border-right-color: var(--fill-color);\n",
              "    }\n",
              "    80% {\n",
              "      border-color: transparent;\n",
              "      border-right-color: var(--fill-color);\n",
              "      border-bottom-color: var(--fill-color);\n",
              "    }\n",
              "    90% {\n",
              "      border-color: transparent;\n",
              "      border-bottom-color: var(--fill-color);\n",
              "    }\n",
              "  }\n",
              "</style>\n",
              "\n",
              "  <script>\n",
              "    async function quickchart(key) {\n",
              "      const quickchartButtonEl =\n",
              "        document.querySelector('#' + key + ' button');\n",
              "      quickchartButtonEl.disabled = true;  // To prevent multiple clicks.\n",
              "      quickchartButtonEl.classList.add('colab-df-spinner');\n",
              "      try {\n",
              "        const charts = await google.colab.kernel.invokeFunction(\n",
              "            'suggestCharts', [key], {});\n",
              "      } catch (error) {\n",
              "        console.error('Error during call to suggestCharts:', error);\n",
              "      }\n",
              "      quickchartButtonEl.classList.remove('colab-df-spinner');\n",
              "      quickchartButtonEl.classList.add('colab-df-quickchart-complete');\n",
              "    }\n",
              "    (() => {\n",
              "      let quickchartButtonEl =\n",
              "        document.querySelector('#df-3e55432a-c8fb-48d4-a554-580727b6a674 button');\n",
              "      quickchartButtonEl.style.display =\n",
              "        google.colab.kernel.accessAllowed ? 'block' : 'none';\n",
              "    })();\n",
              "  </script>\n",
              "</div>\n",
              "\n",
              "    </div>\n",
              "  </div>\n"
            ],
            "application/vnd.google.colaboratory.intrinsic+json": {
              "type": "dataframe",
              "variable_name": "df_tesla",
              "summary": "{\n  \"name\": \"df_tesla\",\n  \"rows\": 1445,\n  \"fields\": [\n    {\n      \"column\": [\n        \"Date\",\n        \"\"\n      ],\n      \"properties\": {\n        \"dtype\": \"date\",\n        \"min\": \"2019-01-02 00:00:00\",\n        \"max\": \"2024-09-27 00:00:00\",\n        \"num_unique_values\": 1445,\n        \"samples\": [\n          \"2020-08-21 00:00:00\",\n          \"2020-04-03 00:00:00\",\n          \"2023-02-09 00:00:00\"\n        ],\n        \"semantic_type\": \"\",\n        \"description\": \"\"\n      }\n    },\n    {\n      \"column\": [\n        \"Adj Close\",\n        \"TSLA\"\n      ],\n      \"properties\": {\n        \"dtype\": \"number\",\n        \"std\": 101.99711399726287,\n        \"min\": 11.9313325881958,\n        \"max\": 409.9700012207031,\n        \"num_unique_values\": 1430,\n        \"samples\": [\n          14.897333145141602,\n          260.5299987792969,\n          140.32666015625\n        ],\n        \"semantic_type\": \"\",\n        \"description\": \"\"\n      }\n    },\n    {\n      \"column\": [\n        \"Close\",\n        \"TSLA\"\n      ],\n      \"properties\": {\n        \"dtype\": \"number\",\n        \"std\": 101.99711399726287,\n        \"min\": 11.9313325881958,\n        \"max\": 409.9700012207031,\n        \"num_unique_values\": 1430,\n        \"samples\": [\n          14.897333145141602,\n          260.5299987792969,\n          140.32666015625\n        ],\n        \"semantic_type\": \"\",\n        \"description\": \"\"\n      }\n    },\n    {\n      \"column\": [\n        \"High\",\n        \"TSLA\"\n      ],\n      \"properties\": {\n        \"dtype\": \"number\",\n        \"std\": 104.3252461669787,\n        \"min\": 12.445332527160645,\n        \"max\": 414.4966735839844,\n        \"num_unique_values\": 1408,\n        \"samples\": [\n          67.0,\n          233.14666748046875,\n          260.8599853515625\n        ],\n        \"semantic_type\": \"\",\n        \"description\": \"\"\n      }\n    },\n    {\n      \"column\": [\n        \"Low\",\n        \"TSLA\"\n      ],\n      \"properties\": {\n        \"dtype\": \"number\",\n        \"std\": 99.67417844631375,\n        \"min\": 11.799332618713379,\n        \"max\": 405.6666564941406,\n        \"num_unique_values\": 1425,\n        \"samples\": [\n          212.77333068847656,\n          239.5399932861328,\n          163.50999450683594\n        ],\n        \"semantic_type\": \"\",\n        \"description\": \"\"\n      }\n    },\n    {\n      \"column\": [\n        \"Open\",\n        \"TSLA\"\n      ],\n      \"properties\": {\n        \"dtype\": \"number\",\n        \"std\": 102.13323482074917,\n        \"min\": 12.073332786560059,\n        \"max\": 411.4700012207031,\n        \"num_unique_values\": 1414,\n        \"samples\": [\n          357.8233337402344,\n          300.7200012207031,\n          54.72200012207031\n        ],\n        \"semantic_type\": \"\",\n        \"description\": \"\"\n      }\n    },\n    {\n      \"column\": [\n        \"Volume\",\n        \"TSLA\"\n      ],\n      \"properties\": {\n        \"dtype\": \"number\",\n        \"std\": 81523634,\n        \"min\": 29401800,\n        \"max\": 914082000,\n        \"num_unique_values\": 1444,\n        \"samples\": [\n          322344000,\n          338431500,\n          204754100\n        ],\n        \"semantic_type\": \"\",\n        \"description\": \"\"\n      }\n    }\n  ]\n}"
            }
          },
          "metadata": {},
          "execution_count": 4
        }
      ]
    },
    {
      "cell_type": "code",
      "source": [
        "df_tesla['Close'].plot(figsize=(12,4), linestyle='--')"
      ],
      "metadata": {
        "colab": {
          "base_uri": "https://localhost:8080/",
          "height": 294
        },
        "id": "naSd869xp3OF",
        "outputId": "1c5e91e8-fe7a-4c47-ae1c-6f108e3cf212"
      },
      "execution_count": 5,
      "outputs": [
        {
          "output_type": "execute_result",
          "data": {
            "text/plain": [
              "<Axes: xlabel='Date'>"
            ]
          },
          "metadata": {},
          "execution_count": 5
        },
        {
          "output_type": "display_data",
          "data": {
            "text/plain": [
              "<Figure size 1200x400 with 1 Axes>"
            ],
            "image/png": "[encoded data removed]"
          },
          "metadata": {}
        }
      ]
    },
    {
      "cell_type": "code",
      "source": [
        "## Datetime Index\n",
        "df_tesla.index"
      ],
      "metadata": {
        "colab": {
          "base_uri": "https://localhost:8080/"
        },
        "id": "wBhwrRIDp_vC",
        "outputId": "edd066b4-3ba5-4957-a172-3b18ee8dc929"
      },
      "execution_count": 6,
      "outputs": [
        {
          "output_type": "execute_result",
          "data": {
            "text/plain": [
              "DatetimeIndex(['2019-01-02', '2019-01-03', '2019-01-04', '2019-01-07',\n",
              "               '2019-01-08', '2019-01-09', '2019-01-10', '2019-01-11',\n",
              "               '2019-01-14', '2019-01-15',\n",
              "               ...\n",
              "               '2024-09-16', '2024-09-17', '2024-09-18', '2024-09-19',\n",
              "               '2024-09-20', '2024-09-23', '2024-09-24', '2024-09-25',\n",
              "               '2024-09-26', '2024-09-27'],\n",
              "              dtype='datetime64[ns]', name='Date', length=1445, freq=None)"
            ]
          },
          "metadata": {},
          "execution_count": 6
        }
      ]
    },
    {
      "cell_type": "code",
      "source": [
        "df_tesla.index = pd.to_datetime(df_tesla.index)"
      ],
      "metadata": {
        "id": "ObsISmlaqFqM"
      },
      "execution_count": 7,
      "outputs": []
    },
    {
      "cell_type": "markdown",
      "source": [
        "Data preprocessing"
      ],
      "metadata": {
        "id": "57caphqkqYPG"
      }
    },
    {
      "cell_type": "code",
      "source": [
        "df_tesla_resam = df_tesla.resample(rule='M').mean()"
      ],
      "metadata": {
        "id": "7B8iTWyYqIw1"
      },
      "execution_count": 8,
      "outputs": []
    },
    {
      "cell_type": "code",
      "source": [
        "# Data preprocessing for LSTM\n",
        "scaler = MinMaxScaler(feature_range=(0, 1))\n",
        "data_scaled = scaler.fit_transform(df_tesla_resam['Close'].values.reshape(-1,1))"
      ],
      "metadata": {
        "id": "kUXJlH6jqhtR"
      },
      "execution_count": 9,
      "outputs": []
    },
    {
      "cell_type": "code",
      "source": [
        "# Splitting data into train and test - assuming 80/20\n",
        "train_size_lstm = int(len(data_scaled) * 0.8)\n",
        "#test_size_lstm = len(data_scaled) - train_size_lstm\n",
        "train_lstm, test_lstm = data_scaled[0:train_size_lstm, :], data_scaled[train_size_lstm:len(data_scaled), :]"
      ],
      "metadata": {
        "id": "d6iR2EFTqsI3"
      },
      "execution_count": 10,
      "outputs": []
    },
    {
      "cell_type": "code",
      "source": [
        "# Convert an array of values into a dataset matrix\n",
        "def prepare_data(dataset, time_steps=1):\n",
        "    X, Y = [], []\n",
        "    for i in range(len(dataset)-time_steps-1):\n",
        "        a = dataset[i:(i+time_steps), 0]\n",
        "        X.append(a)\n",
        "        Y.append(dataset[i + time_steps, 0])\n",
        "    return np.array(X), np.array(Y)"
      ],
      "metadata": {
        "id": "WQji-Zaa0Lbm"
      },
      "execution_count": 11,
      "outputs": []
    },
    {
      "cell_type": "code",
      "source": [
        "# Reshape into X=t and Y=t+1\n",
        "time_steps = 1\n",
        "trainX, trainY = prepare_data(train_lstm, time_steps)\n",
        "testX, testY = prepare_data(test_lstm, time_steps)\n",
        "\n",
        "# Reshape input to be [samples, time steps, features]\n",
        "trainX = np.reshape(trainX, (trainX.shape[0], 1, trainX.shape[1]))\n",
        "testX = np.reshape(testX, (testX.shape[0], 1, testX.shape[1]))"
      ],
      "metadata": {
        "id": "oQjD_2kp0R78"
      },
      "execution_count": 12,
      "outputs": []
    },
    {
      "cell_type": "code",
      "source": [
        "# Build the LSTM model\n",
        "model_lstm = Sequential()\n",
        "model_lstm.add(LSTM(4, input_shape=(1, time_steps)))\n",
        "model_lstm.add(Dense(1))\n",
        "model_lstm.compile(loss='mean_squared_error', optimizer='adam')\n",
        "model_lstm.fit(trainX, trainY, epochs=50, batch_size=1, verbose=2)"
      ],
      "metadata": {
        "colab": {
          "base_uri": "https://localhost:8080/"
        },
        "id": "dNBRjsR2Bk4o",
        "outputId": "60332509-f24f-435a-a6f2-7308b275cb3c"
      },
      "execution_count": 13,
      "outputs": [
        {
          "output_type": "stream",
          "name": "stdout",
          "text": [
            "Epoch 1/50\n",
            "53/53 - 1s - 28ms/step - loss: 0.3435\n",
            "Epoch 2/50\n",
            "53/53 - 0s - 2ms/step - loss: 0.2624\n",
            "Epoch 3/50\n",
            "53/53 - 0s - 2ms/step - loss: 0.2066\n",
            "Epoch 4/50\n",
            "53/53 - 0s - 3ms/step - loss: 0.1647\n",
            "Epoch 5/50\n",
            "53/53 - 0s - 2ms/step - loss: 0.1365\n",
            "Epoch 6/50\n",
            "53/53 - 0s - 3ms/step - loss: 0.1160\n",
            "Epoch 7/50\n",
            "53/53 - 0s - 3ms/step - loss: 0.1020\n",
            "Epoch 8/50\n",
            "53/53 - 0s - 3ms/step - loss: 0.0916\n",
            "Epoch 9/50\n",
            "53/53 - 0s - 2ms/step - loss: 0.0851\n",
            "Epoch 10/50\n",
            "53/53 - 0s - 4ms/step - loss: 0.0787\n",
            "Epoch 11/50\n",
            "53/53 - 0s - 4ms/step - loss: 0.0744\n",
            "Epoch 12/50\n",
            "53/53 - 0s - 5ms/step - loss: 0.0702\n",
            "Epoch 13/50\n",
            "53/53 - 0s - 6ms/step - loss: 0.0670\n",
            "Epoch 14/50\n",
            "53/53 - 0s - 6ms/step - loss: 0.0627\n",
            "Epoch 15/50\n",
            "53/53 - 0s - 6ms/step - loss: 0.0595\n",
            "Epoch 16/50\n",
            "53/53 - 0s - 6ms/step - loss: 0.0560\n",
            "Epoch 17/50\n",
            "53/53 - 0s - 5ms/step - loss: 0.0525\n",
            "Epoch 18/50\n",
            "53/53 - 0s - 3ms/step - loss: 0.0493\n",
            "Epoch 19/50\n",
            "53/53 - 0s - 3ms/step - loss: 0.0464\n",
            "Epoch 20/50\n",
            "53/53 - 0s - 3ms/step - loss: 0.0429\n",
            "Epoch 21/50\n",
            "53/53 - 0s - 6ms/step - loss: 0.0400\n",
            "Epoch 22/50\n",
            "53/53 - 0s - 5ms/step - loss: 0.0369\n",
            "Epoch 23/50\n",
            "53/53 - 0s - 3ms/step - loss: 0.0340\n",
            "Epoch 24/50\n",
            "53/53 - 0s - 2ms/step - loss: 0.0311\n",
            "Epoch 25/50\n",
            "53/53 - 0s - 3ms/step - loss: 0.0285\n",
            "Epoch 26/50\n",
            "53/53 - 0s - 2ms/step - loss: 0.0262\n",
            "Epoch 27/50\n",
            "53/53 - 0s - 3ms/step - loss: 0.0237\n",
            "Epoch 28/50\n",
            "53/53 - 0s - 3ms/step - loss: 0.0216\n",
            "Epoch 29/50\n",
            "53/53 - 0s - 3ms/step - loss: 0.0196\n",
            "Epoch 30/50\n",
            "53/53 - 0s - 2ms/step - loss: 0.0177\n",
            "Epoch 31/50\n",
            "53/53 - 0s - 3ms/step - loss: 0.0159\n",
            "Epoch 32/50\n",
            "53/53 - 0s - 2ms/step - loss: 0.0145\n",
            "Epoch 33/50\n",
            "53/53 - 0s - 3ms/step - loss: 0.0132\n",
            "Epoch 34/50\n",
            "53/53 - 0s - 3ms/step - loss: 0.0121\n",
            "Epoch 35/50\n",
            "53/53 - 0s - 2ms/step - loss: 0.0111\n",
            "Epoch 36/50\n",
            "53/53 - 0s - 3ms/step - loss: 0.0105\n",
            "Epoch 37/50\n",
            "53/53 - 0s - 3ms/step - loss: 0.0096\n",
            "Epoch 38/50\n",
            "53/53 - 0s - 2ms/step - loss: 0.0090\n",
            "Epoch 39/50\n",
            "53/53 - 0s - 3ms/step - loss: 0.0086\n",
            "Epoch 40/50\n",
            "53/53 - 0s - 2ms/step - loss: 0.0082\n",
            "Epoch 41/50\n",
            "53/53 - 0s - 3ms/step - loss: 0.0079\n",
            "Epoch 42/50\n",
            "53/53 - 0s - 3ms/step - loss: 0.0077\n",
            "Epoch 43/50\n",
            "53/53 - 0s - 3ms/step - loss: 0.0076\n",
            "Epoch 44/50\n",
            "53/53 - 0s - 3ms/step - loss: 0.0074\n",
            "Epoch 45/50\n",
            "53/53 - 0s - 2ms/step - loss: 0.0075\n",
            "Epoch 46/50\n",
            "53/53 - 0s - 3ms/step - loss: 0.0072\n",
            "Epoch 47/50\n",
            "53/53 - 0s - 3ms/step - loss: 0.0071\n",
            "Epoch 48/50\n",
            "53/53 - 0s - 3ms/step - loss: 0.0071\n",
            "Epoch 49/50\n",
            "53/53 - 0s - 3ms/step - loss: 0.0070\n",
            "Epoch 50/50\n",
            "53/53 - 0s - 3ms/step - loss: 0.0071\n"
          ]
        },
        {
          "output_type": "execute_result",
          "data": {
            "text/plain": [
              "<keras.src.callbacks.history.History at 0x7e14bb548be0>"
            ]
          },
          "metadata": {},
          "execution_count": 13
        }
      ]
    }
  ]
}